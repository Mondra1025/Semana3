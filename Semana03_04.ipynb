{
  "nbformat": 4,
  "nbformat_minor": 0,
  "metadata": {
    "colab": {
      "provenance": []
    },
    "kernelspec": {
      "name": "python3",
      "display_name": "Python 3"
    },
    "language_info": {
      "name": "python"
    }
  },
  "cells": [
    {
      "cell_type": "markdown",
      "source": [
        "#SEMANA 03\n",
        "#Ing. Alberto Ismael Mondraagon Parodi"
      ],
      "metadata": {
        "id": "zLES7XnXxRuo"
      }
    },
    {
      "cell_type": "markdown",
      "source": [
        "Temas:\n",
        "  1. Números\n",
        "  2. Variables\n",
        "  3. Manejo de Cadenas\n",
        "  4. Ingreso de datos por Teclado\n",
        "  5. Operadores\n"
      ],
      "metadata": {
        "id": "NpXiGYEexpMI"
      }
    },
    {
      "cell_type": "markdown",
      "source": [
        "4. Ingreso de datos por teclado\n"
      ],
      "metadata": {
        "id": "C-1LSuL6yeL_"
      }
    },
    {
      "cell_type": "code",
      "source": [
        "#Funcion input()\n",
        "print(\"Cual es tu nombre?\")\n",
        "nombre = input()\n",
        "print(\"Hola \"+ nombre)"
      ],
      "metadata": {
        "colab": {
          "base_uri": "https://localhost:8080/"
        },
        "id": "RbLPBH0a8m97",
        "outputId": "7d9aa82c-c2ba-43a5-c762-d7764ab1d341"
      },
      "execution_count": 2,
      "outputs": [
        {
          "output_type": "stream",
          "name": "stdout",
          "text": [
            "Cual es tu nombre?\n",
            "Alberto\n",
            "Hola Alberto\n"
          ]
        }
      ]
    },
    {
      "cell_type": "code",
      "source": [
        "#Cuando ingrese un valor por teclado lo hace como cadena\n",
        "print(\"Numero 1: \")\n",
        "numero1=input()\n",
        "print(\"Numero 2:\")\n",
        "numero2 = input()\n",
        "numero3 = int(numero1) + int(numero2)\n",
        "print(f\"El resultado es {numero3}\")"
      ],
      "metadata": {
        "colab": {
          "base_uri": "https://localhost:8080/"
        },
        "id": "D6YtN7BQ9Se6",
        "outputId": "7603d6de-e281-4f13-d046-ace3d94fb00e"
      },
      "execution_count": 4,
      "outputs": [
        {
          "output_type": "stream",
          "name": "stdout",
          "text": [
            "Numero 1: \n",
            "15\n",
            "Numero 2:\n",
            "28\n",
            "El resultado es 43\n"
          ]
        }
      ]
    },
    {
      "cell_type": "code",
      "source": [],
      "metadata": {
        "id": "ZX6op-cr-JCq"
      },
      "execution_count": null,
      "outputs": []
    }
  ]
}