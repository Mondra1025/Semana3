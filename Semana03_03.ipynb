{
  "nbformat": 4,
  "nbformat_minor": 0,
  "metadata": {
    "colab": {
      "provenance": []
    },
    "kernelspec": {
      "name": "python3",
      "display_name": "Python 3"
    },
    "language_info": {
      "name": "python"
    }
  },
  "cells": [
    {
      "cell_type": "markdown",
      "source": [
        "#SEMANA 03\n",
        "#Ing. Alberto Ismael Mondragon Parodi"
      ],
      "metadata": {
        "id": "zLES7XnXxRuo"
      }
    },
    {
      "cell_type": "markdown",
      "source": [
        "Temas:\n",
        "  1. Números\n",
        "  2. Variables\n",
        "  3. Manejo de Cadenas\n",
        "  4. Ingreso de datos por Teclado\n",
        "  5. Operadores\n"
      ],
      "metadata": {
        "id": "NpXiGYEexpMI"
      }
    },
    {
      "cell_type": "markdown",
      "source": [
        "3. Manejo de Cadenas\n"
      ],
      "metadata": {
        "id": "C-1LSuL6yeL_"
      }
    },
    {
      "cell_type": "code",
      "source": [
        "cadena=\"Universidad Nacional Tecnologica de Lima Sur\""
      ],
      "metadata": {
        "id": "H7faBIT95GeM"
      },
      "execution_count": 2,
      "outputs": []
    },
    {
      "cell_type": "code",
      "source": [
        "#Para mostrar una subcadena {desde,hasta una antes}\n",
        "#En java era substring()\n",
        "cadena[3:8]"
      ],
      "metadata": {
        "colab": {
          "base_uri": "https://localhost:8080/",
          "height": 35
        },
        "id": "Xy31lYIU3-zN",
        "outputId": "88e52bdf-7d56-4cf9-f0ed-c5dcc6b72570"
      },
      "execution_count": 3,
      "outputs": [
        {
          "output_type": "execute_result",
          "data": {
            "text/plain": [
              "'versi'"
            ],
            "application/vnd.google.colaboratory.intrinsic+json": {
              "type": "string"
            }
          },
          "metadata": {},
          "execution_count": 3
        }
      ]
    },
    {
      "cell_type": "code",
      "source": [
        "#Paara mostrar una cadena en mayuscula utilizamos upper()\n",
        "cadena.upper()"
      ],
      "metadata": {
        "colab": {
          "base_uri": "https://localhost:8080/",
          "height": 35
        },
        "id": "f6c-dt3G48PU",
        "outputId": "91a06c7b-2fa4-44f9-d338-fcb72d64b078"
      },
      "execution_count": 4,
      "outputs": [
        {
          "output_type": "execute_result",
          "data": {
            "text/plain": [
              "'UNIVERSIDAD NACIONAL TECNOLOGICA DE LIMA SUR'"
            ],
            "application/vnd.google.colaboratory.intrinsic+json": {
              "type": "string"
            }
          },
          "metadata": {},
          "execution_count": 4
        }
      ]
    },
    {
      "cell_type": "code",
      "source": [
        "#Para mostrar una cadena en minpuscula utilizamos lower()\n",
        "cadena.lower()"
      ],
      "metadata": {
        "colab": {
          "base_uri": "https://localhost:8080/",
          "height": 35
        },
        "id": "QTczbE3v43El",
        "outputId": "79ea4399-2654-47a1-c1b6-2322b9249ede"
      },
      "execution_count": 6,
      "outputs": [
        {
          "output_type": "execute_result",
          "data": {
            "text/plain": [
              "'universidad nacional tecnologica de lima sur'"
            ],
            "application/vnd.google.colaboratory.intrinsic+json": {
              "type": "string"
            }
          },
          "metadata": {},
          "execution_count": 6
        }
      ]
    },
    {
      "cell_type": "code",
      "source": [
        "cadena.split()"
      ],
      "metadata": {
        "colab": {
          "base_uri": "https://localhost:8080/"
        },
        "id": "dmPa9rpN5dA9",
        "outputId": "6078b4a1-f9d8-4818-bf4c-4be29cc45562"
      },
      "execution_count": 7,
      "outputs": [
        {
          "output_type": "execute_result",
          "data": {
            "text/plain": [
              "['Universidad', 'Nacional', 'Tecnologica', 'de', 'Lima', 'Sur']"
            ]
          },
          "metadata": {},
          "execution_count": 7
        }
      ]
    },
    {
      "cell_type": "code",
      "source": [
        "#Generar una lista utilizando un criterio de separación a partir de una\n",
        "#En este caaso vamos a generar una lista e toda la cadena\n",
        "#utilizando como criterio de separacion letra \"A\"\n",
        "cadena.split(\"a\")"
      ],
      "metadata": {
        "colab": {
          "base_uri": "https://localhost:8080/"
        },
        "id": "gYrOuOU45VMM",
        "outputId": "6de47b5c-c2fb-4fb1-dcbb-dca3d4149e3a"
      },
      "execution_count": 11,
      "outputs": [
        {
          "output_type": "execute_result",
          "data": {
            "text/plain": [
              "['Universid', 'd N', 'cion', 'l Tecnologic', ' de Lim', ' Sur']"
            ]
          },
          "metadata": {},
          "execution_count": 11
        }
      ]
    },
    {
      "cell_type": "code",
      "source": [
        "#Forma clásica de concatenar con +\n",
        "nombre = \"Alberto Mondragon\"\n",
        "print(\"Buenos dias\" + nombre)"
      ],
      "metadata": {
        "colab": {
          "base_uri": "https://localhost:8080/"
        },
        "id": "rX_nbTpQ5wKM",
        "outputId": "b95c1bbc-1d34-4bb9-d4db-4990c42ac729"
      },
      "execution_count": 15,
      "outputs": [
        {
          "output_type": "stream",
          "name": "stdout",
          "text": [
            "Buenos dias Alberto Mondragon\n"
          ]
        }
      ]
    },
    {
      "cell_type": "code",
      "source": [
        "#Utilizando el .format()\n",
        "nombre = \"Ismael Parodi\"\n",
        "edad=20\n",
        "print(\"Hola {} Tengo {} años\".format(nombre,edad))"
      ],
      "metadata": {
        "colab": {
          "base_uri": "https://localhost:8080/"
        },
        "id": "Kt6MUov_5-sr",
        "outputId": "7a779dc1-757f-463a-d9a3-ec193ba8df22"
      },
      "execution_count": 17,
      "outputs": [
        {
          "output_type": "stream",
          "name": "stdout",
          "text": [
            "Hola Ismael Parodi Tengo 20 años\n"
          ]
        }
      ]
    },
    {
      "cell_type": "code",
      "source": [
        "resultado=10/3\n",
        "print(\"10/3 es {}\".format(resultado))\n",
        "print(\"10/3 es= {r:1.3f}\".format(r=resultado))"
      ],
      "metadata": {
        "colab": {
          "base_uri": "https://localhost:8080/"
        },
        "id": "MehwqBjP6wHj",
        "outputId": "2f8693b8-a3fd-4bf2-9c84-e10ffd26c81f"
      },
      "execution_count": 22,
      "outputs": [
        {
          "output_type": "stream",
          "name": "stdout",
          "text": [
            "10/3 es 3.3333333333333335\n",
            "10/3 es= 3.333\n"
          ]
        }
      ]
    },
    {
      "cell_type": "code",
      "source": [
        "#Dar la funcion f\n",
        "nombre=\"Alberto Mondragon\"\n",
        "edad =20\n",
        "print(f\"Buenos dias {nombre}, ya se que tienes {edad} años\")"
      ],
      "metadata": {
        "colab": {
          "base_uri": "https://localhost:8080/"
        },
        "id": "1TnNLXwT7JNb",
        "outputId": "ee1a4bba-565e-428c-9e92-078a65089989"
      },
      "execution_count": 24,
      "outputs": [
        {
          "output_type": "stream",
          "name": "stdout",
          "text": [
            "Buenos dias Alberto Mondragon, ya se que tienes 20 años\n"
          ]
        }
      ]
    },
    {
      "cell_type": "code",
      "source": [
        "#Dar formatos  npumerocon muchos decimales con f\n",
        "resultado = 10/3\n",
        "print(f\"10/3 es {resultado}\")\n",
        "print(f\"10/3 es {resultado:1.4f}\")"
      ],
      "metadata": {
        "colab": {
          "base_uri": "https://localhost:8080/"
        },
        "id": "y3wIVPyg7dsr",
        "outputId": "1aa62fbb-274c-40d0-e07d-36fff92fd7f3"
      },
      "execution_count": 27,
      "outputs": [
        {
          "output_type": "stream",
          "name": "stdout",
          "text": [
            "10/3 es 3.3333333333333335\n",
            "10/3 es 3.3333\n"
          ]
        }
      ]
    }
  ]
}