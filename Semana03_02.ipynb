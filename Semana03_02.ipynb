{
  "nbformat": 4,
  "nbformat_minor": 0,
  "metadata": {
    "colab": {
      "provenance": []
    },
    "kernelspec": {
      "name": "python3",
      "display_name": "Python 3"
    },
    "language_info": {
      "name": "python"
    }
  },
  "cells": [
    {
      "cell_type": "markdown",
      "source": [
        "#SEMANA 03\n",
        "#Ing. Alberto Ismael Mondraagon Parodi"
      ],
      "metadata": {
        "id": "zLES7XnXxRuo"
      }
    },
    {
      "cell_type": "markdown",
      "source": [
        "Temas:\n",
        "  1. Números\n",
        "  2. Variables\n",
        "  3. Manejo de Cadenas\n",
        "  4. Ingreso de datos por Teclado\n",
        "  5. Operadores\n"
      ],
      "metadata": {
        "id": "NpXiGYEexpMI"
      }
    },
    {
      "cell_type": "markdown",
      "source": [
        "2. Variables"
      ],
      "metadata": {
        "id": "C-1LSuL6yeL_"
      }
    },
    {
      "cell_type": "code",
      "source": [
        "edad=41"
      ],
      "metadata": {
        "id": "zyp0Wr-3yI4Y"
      },
      "execution_count": 2,
      "outputs": []
    },
    {
      "cell_type": "code",
      "source": [
        "edad"
      ],
      "metadata": {
        "id": "-HVmcbH_0DJ_"
      },
      "execution_count": null,
      "outputs": []
    },
    {
      "cell_type": "code",
      "source": [
        "nombre =\"Alberto\""
      ],
      "metadata": {
        "id": "qsH1AbKw0dM2"
      },
      "execution_count": 9,
      "outputs": []
    },
    {
      "cell_type": "code",
      "source": [
        "nombre"
      ],
      "metadata": {
        "colab": {
          "base_uri": "https://localhost:8080/",
          "height": 35
        },
        "id": "4koo62Qg0jXd",
        "outputId": "7a180277-9a44-43cf-ef06-f430fb9764bb"
      },
      "execution_count": 10,
      "outputs": [
        {
          "output_type": "execute_result",
          "data": {
            "text/plain": [
              "'Alberto'"
            ],
            "application/vnd.google.colaboratory.intrinsic+json": {
              "type": "string"
            }
          },
          "metadata": {},
          "execution_count": 10
        }
      ]
    },
    {
      "cell_type": "code",
      "source": [
        "apellido = \"Mondragon Parodi\""
      ],
      "metadata": {
        "id": "OugI1nEY0pP1"
      },
      "execution_count": 11,
      "outputs": []
    },
    {
      "cell_type": "code",
      "source": [
        "nombrecompleto = nombre +\" \"+ apellido\n",
        "nombrecompleto"
      ],
      "metadata": {
        "colab": {
          "base_uri": "https://localhost:8080/",
          "height": 35
        },
        "id": "VrpMieJr04Dl",
        "outputId": "2c156bfc-7d20-43f3-dbfa-04f4a9b713b0"
      },
      "execution_count": 17,
      "outputs": [
        {
          "output_type": "execute_result",
          "data": {
            "text/plain": [
              "'Alberto Mondragon Parodi'"
            ],
            "application/vnd.google.colaboratory.intrinsic+json": {
              "type": "string"
            }
          },
          "metadata": {},
          "execution_count": 17
        }
      ]
    },
    {
      "cell_type": "code",
      "source": [
        "#Para sacar el tipo de variable utilizamos la función type()\n",
        "#Por ejemplo:\n",
        "numero=50\n",
        "type(numero)"
      ],
      "metadata": {
        "colab": {
          "base_uri": "https://localhost:8080/"
        },
        "id": "nUQLV_zs1gcO",
        "outputId": "aeae3ac0-cd0c-4ad0-a5e3-a9a7e41296c0"
      },
      "execution_count": 19,
      "outputs": [
        {
          "output_type": "execute_result",
          "data": {
            "text/plain": [
              "str"
            ]
          },
          "metadata": {},
          "execution_count": 19
        }
      ]
    },
    {
      "cell_type": "code",
      "source": [
        "type(nombre)"
      ],
      "metadata": {
        "colab": {
          "base_uri": "https://localhost:8080/"
        },
        "id": "Jb78986X1xYl",
        "outputId": "6c48a771-2daf-406f-c1fe-f18857e4ba60"
      },
      "execution_count": 21,
      "outputs": [
        {
          "output_type": "execute_result",
          "data": {
            "text/plain": [
              "str"
            ]
          },
          "metadata": {},
          "execution_count": 21
        }
      ]
    },
    {
      "cell_type": "code",
      "source": [
        "talla=1.57\n",
        "talla"
      ],
      "metadata": {
        "colab": {
          "base_uri": "https://localhost:8080/"
        },
        "id": "Gp7ppFnL12SV",
        "outputId": "10b08b3e-c9fe-4670-82ea-0dd9c561346d"
      },
      "execution_count": 23,
      "outputs": [
        {
          "output_type": "execute_result",
          "data": {
            "text/plain": [
              "1.57"
            ]
          },
          "metadata": {},
          "execution_count": 23
        }
      ]
    },
    {
      "cell_type": "code",
      "source": [
        "type(talla)"
      ],
      "metadata": {
        "colab": {
          "base_uri": "https://localhost:8080/"
        },
        "id": "jVWdIVTi161u",
        "outputId": "19dd0cc3-3468-4df5-ba5b-5ea62bb50e76"
      },
      "execution_count": 25,
      "outputs": [
        {
          "output_type": "execute_result",
          "data": {
            "text/plain": [
              "float"
            ]
          },
          "metadata": {},
          "execution_count": 25
        }
      ]
    },
    {
      "cell_type": "code",
      "source": [
        "#Para convertir una cadena utilizamos str()\n",
        "numero = 100\n",
        "cadena=str(numero)\n",
        "cadena\n"
      ],
      "metadata": {
        "colab": {
          "base_uri": "https://localhost:8080/",
          "height": 35
        },
        "id": "3C3HdNUw1-md",
        "outputId": "cd880fa5-06cc-4ffa-f58d-b2740f5d9484"
      },
      "execution_count": 27,
      "outputs": [
        {
          "output_type": "execute_result",
          "data": {
            "text/plain": [
              "'100'"
            ],
            "application/vnd.google.colaboratory.intrinsic+json": {
              "type": "string"
            }
          },
          "metadata": {},
          "execution_count": 27
        }
      ]
    },
    {
      "cell_type": "code",
      "source": [
        "type(cadena)"
      ],
      "metadata": {
        "colab": {
          "base_uri": "https://localhost:8080/"
        },
        "id": "owMmNNxK2IB1",
        "outputId": "6220ef2d-4ef2-4d80-a1ca-15c5fa69c05b"
      },
      "execution_count": 29,
      "outputs": [
        {
          "output_type": "execute_result",
          "data": {
            "text/plain": [
              "str"
            ]
          },
          "metadata": {},
          "execution_count": 29
        }
      ]
    },
    {
      "cell_type": "code",
      "source": [
        "#Pra convertir una cadena a un decimal utilizamos float()\n",
        "cadena2=\"50\"\n",
        "numero2=float(cadena2)\n",
        "numero2"
      ],
      "metadata": {
        "colab": {
          "base_uri": "https://localhost:8080/"
        },
        "id": "mq11DMDi2g6F",
        "outputId": "149750e0-e7b7-4fea-bec8-5f8135dc76a6"
      },
      "execution_count": 31,
      "outputs": [
        {
          "output_type": "execute_result",
          "data": {
            "text/plain": [
              "50.0"
            ]
          },
          "metadata": {},
          "execution_count": 31
        }
      ]
    },
    {
      "cell_type": "code",
      "source": [
        "type(cadena2)"
      ],
      "metadata": {
        "colab": {
          "base_uri": "https://localhost:8080/"
        },
        "id": "j5LHFlmX23Ks",
        "outputId": "26a0cb20-fdbf-45b1-c3a6-e69ec35772ed"
      },
      "execution_count": 33,
      "outputs": [
        {
          "output_type": "execute_result",
          "data": {
            "text/plain": [
              "str"
            ]
          },
          "metadata": {},
          "execution_count": 33
        }
      ]
    }
  ]
}