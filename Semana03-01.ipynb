{
 "cells": [
  {
   "cell_type": "markdown",
   "id": "4cf7d68b",
   "metadata": {},
   "source": [
    "# Semana 03\n",
    "Alberto Mondragon Parodi"
   ]
  },
  {
   "cell_type": "markdown",
   "id": "93097d38",
   "metadata": {},
   "source": [
    "Temas:\n",
    "    1.Números\n",
    "    2.Variables\n",
    "    3.Manejo de Cadenas\n",
    "    4.Ingreso por el Teclado\n",
    "    5.Operadores"
   ]
  },
  {
   "cell_type": "markdown",
   "id": "54674e37",
   "metadata": {},
   "source": [
    "1. Números"
   ]
  },
  {
   "cell_type": "code",
   "execution_count": null,
   "id": "49739a12",
   "metadata": {},
   "outputs": [],
   "source": [
    "13+10\n"
   ]
  },
  {
   "cell_type": "code",
   "execution_count": null,
   "id": "7d4c4241",
   "metadata": {},
   "outputs": [],
   "source": []
  }
 ],
 "metadata": {
  "kernelspec": {
   "display_name": "Python 3 (ipykernel)",
   "language": "python",
   "name": "python3"
  },
  "language_info": {
   "codemirror_mode": {
    "name": "ipython",
    "version": 3
   },
   "file_extension": ".py",
   "mimetype": "text/x-python",
   "name": "python",
   "nbconvert_exporter": "python",
   "pygments_lexer": "ipython3",
   "version": "3.9.12"
  }
 },
 "nbformat": 4,
 "nbformat_minor": 5
}
