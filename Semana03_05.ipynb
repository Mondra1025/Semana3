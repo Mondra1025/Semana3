{
  "nbformat": 4,
  "nbformat_minor": 0,
  "metadata": {
    "colab": {
      "provenance": []
    },
    "kernelspec": {
      "name": "python3",
      "display_name": "Python 3"
    },
    "language_info": {
      "name": "python"
    }
  },
  "cells": [
    {
      "cell_type": "markdown",
      "source": [
        "#SEMANA 03\n",
        "#Ing. Alberto Ismael Mondragon Parodi"
      ],
      "metadata": {
        "id": "zLES7XnXxRuo"
      }
    },
    {
      "cell_type": "markdown",
      "source": [
        "Temas:\n",
        "  1. Números\n",
        "  2. Variables\n",
        "  3. Manejo de Cadenas\n",
        "  4. Ingreso de datos por Teclado\n",
        "  5. Operadores\n"
      ],
      "metadata": {
        "id": "NpXiGYEexpMI"
      }
    },
    {
      "cell_type": "markdown",
      "source": [
        "5. Operadores\n",
        "\n",
        "\n"
      ],
      "metadata": {
        "id": "C-1LSuL6yeL_"
      }
    },
    {
      "cell_type": "code",
      "source": [
        "#5.1 Operdores matemáticos\n",
        "#Se tiene. +,-,*,/,**,%,//"
      ],
      "metadata": {
        "id": "BP4YlouY_TMJ"
      },
      "execution_count": null,
      "outputs": []
    },
    {
      "cell_type": "code",
      "source": [
        "numero1=10\n",
        "numero2=3\n",
        "suma = numero1 + numero2\n",
        "resta = numero1 - numero2\n",
        "multiplicacion = numero1*numero2\n",
        "division = numero1/ numero2\n",
        "residuo=numero1%numero2\n",
        "cociente=numero1//numero2\n",
        "potencia= numero1**numero2\n",
        "print(f\"La suma es {suma}\")\n",
        "print(f\"La resta es {resta}\")\n",
        "print(f\"La multiplicacion es {multiplicacion}\")\n",
        "print(f\"La division es {division}\")\n",
        "print(f\"La residuo es {residuo}\")\n",
        "print(f\"La cociente es {cociente}\")\n",
        "print(f\"La potencia es {potencia}\")\n"
      ],
      "metadata": {
        "colab": {
          "base_uri": "https://localhost:8080/"
        },
        "id": "SFtHd495ABN5",
        "outputId": "99d50efd-e916-4a28-e91c-f2ef646e64e0"
      },
      "execution_count": 2,
      "outputs": [
        {
          "output_type": "stream",
          "name": "stdout",
          "text": [
            "La suma es 13\n",
            "La resta es 7\n",
            "La multiplicacion es 30\n",
            "La division es 3.3333333333333335\n",
            "La residuo es 1\n",
            "La cociente es 3\n",
            "La potencia es 1000\n"
          ]
        }
      ]
    },
    {
      "cell_type": "code",
      "source": [
        "# 5.2 Operadores de asignacion\n",
        "# Se tiene: =,+=,-=,*=,/=,**=\n",
        "numero = 5\n",
        "numero += 3\n",
        "print(numero)"
      ],
      "metadata": {
        "colab": {
          "base_uri": "https://localhost:8080/"
        },
        "id": "iUMuMCQNCsV4",
        "outputId": "e5d35d16-e074-410a-9331-4051eeab4f31"
      },
      "execution_count": 15,
      "outputs": [
        {
          "output_type": "stream",
          "name": "stdout",
          "text": [
            "8\n"
          ]
        }
      ]
    },
    {
      "cell_type": "code",
      "source": [
        "numero = 5\n",
        "numero**=3\n",
        "print(numero)"
      ],
      "metadata": {
        "colab": {
          "base_uri": "https://localhost:8080/"
        },
        "id": "5vZMA9P2DDb2",
        "outputId": "1e4ee885-8d06-4d4e-ff3c-fc00275e397a"
      },
      "execution_count": 14,
      "outputs": [
        {
          "output_type": "stream",
          "name": "stdout",
          "text": [
            "125\n"
          ]
        }
      ]
    },
    {
      "cell_type": "code",
      "source": [
        "# 5.3 Operadores de ccomparacion\n",
        "# Se tiene: ==,!=,<,>,<=,>=\n",
        "numero1 = 5\n",
        "numero2 = 3\n",
        "numero1==numero2\n",
        "#Con las cadenas es igual"
      ],
      "metadata": {
        "colab": {
          "base_uri": "https://localhost:8080/"
        },
        "id": "bHUDKQNzDaHn",
        "outputId": "eb132c5b-4a33-4822-c0db-f70bf97d8c59"
      },
      "execution_count": 10,
      "outputs": [
        {
          "output_type": "execute_result",
          "data": {
            "text/plain": [
              "False"
            ]
          },
          "metadata": {},
          "execution_count": 10
        }
      ]
    },
    {
      "cell_type": "code",
      "source": [
        "# 5.4 Operadores Lógios\n",
        "# Se tiene: and, or, not\n",
        "n1=5\n",
        "n2=6\n",
        "n3=7\n",
        "n4=8\n"
      ],
      "metadata": {
        "id": "b3HH7wGeEE9Q"
      },
      "execution_count": 18,
      "outputs": []
    },
    {
      "cell_type": "code",
      "source": [
        "n1<n2\n"
      ],
      "metadata": {
        "colab": {
          "base_uri": "https://localhost:8080/"
        },
        "id": "YFeC40U6EzXg",
        "outputId": "7532893d-0cc8-4393-9da0-2ad0253afa49"
      },
      "execution_count": 20,
      "outputs": [
        {
          "output_type": "execute_result",
          "data": {
            "text/plain": [
              "True"
            ]
          },
          "metadata": {},
          "execution_count": 20
        }
      ]
    },
    {
      "cell_type": "code",
      "source": [
        "not(n1<n2)"
      ],
      "metadata": {
        "colab": {
          "base_uri": "https://localhost:8080/"
        },
        "id": "o4rvKeJ8E1aO",
        "outputId": "b794f6af-c70e-48b1-daa0-006628f8d5ac"
      },
      "execution_count": 21,
      "outputs": [
        {
          "output_type": "execute_result",
          "data": {
            "text/plain": [
              "False"
            ]
          },
          "metadata": {},
          "execution_count": 21
        }
      ]
    },
    {
      "cell_type": "code",
      "source": [
        "n1<n2 and n3<n4"
      ],
      "metadata": {
        "colab": {
          "base_uri": "https://localhost:8080/"
        },
        "id": "PEsDIoZWE4qV",
        "outputId": "f0fc923c-b171-4342-95fa-ab0ea55bc395"
      },
      "execution_count": 22,
      "outputs": [
        {
          "output_type": "execute_result",
          "data": {
            "text/plain": [
              "True"
            ]
          },
          "metadata": {},
          "execution_count": 22
        }
      ]
    },
    {
      "cell_type": "code",
      "source": [
        "(n1<n2 and n3<n4) or (n3>n4)"
      ],
      "metadata": {
        "colab": {
          "base_uri": "https://localhost:8080/"
        },
        "id": "LsUKSnyWE8f-",
        "outputId": "e1b1f8a2-f402-4ca6-ecc7-a1911af46e3a"
      },
      "execution_count": 25,
      "outputs": [
        {
          "output_type": "execute_result",
          "data": {
            "text/plain": [
              "True"
            ]
          },
          "metadata": {},
          "execution_count": 25
        }
      ]
    },
    {
      "cell_type": "code",
      "source": [
        "# 5.5 Operadores de Pertenencia\n",
        "# Se tiene: in, not in\n",
        "aula=[\"Juan\",\"Daniel\",\"Ruben\"]\n",
        "alumno1=\"Diego\"\n",
        "alumno2 = \"Juan\"\n"
      ],
      "metadata": {
        "id": "V0RLE-KjFFr2"
      },
      "execution_count": 26,
      "outputs": []
    },
    {
      "cell_type": "code",
      "source": [
        "alumno1 not in aula"
      ],
      "metadata": {
        "colab": {
          "base_uri": "https://localhost:8080/"
        },
        "id": "bYqUbE8GFVtu",
        "outputId": "c4f3357e-60e6-4ff0-d6e7-91be69cd5815"
      },
      "execution_count": 31,
      "outputs": [
        {
          "output_type": "execute_result",
          "data": {
            "text/plain": [
              "True"
            ]
          },
          "metadata": {},
          "execution_count": 31
        }
      ]
    },
    {
      "cell_type": "code",
      "source": [
        "alumno2 in aula"
      ],
      "metadata": {
        "colab": {
          "base_uri": "https://localhost:8080/"
        },
        "id": "bPLnoiJIFZIF",
        "outputId": "94bf2b50-c6d7-4eb5-a7cc-f64f71ccf612"
      },
      "execution_count": 32,
      "outputs": [
        {
          "output_type": "execute_result",
          "data": {
            "text/plain": [
              "True"
            ]
          },
          "metadata": {},
          "execution_count": 32
        }
      ]
    },
    {
      "cell_type": "code",
      "source": [
        "# 5.6 Operadores de identidad\n",
        "# Se tiene: is ,is not\n",
        "aula1=[\"Juan\",\"Daniel\",\"Ruben\"]\n",
        "aula2=[\"Juan\",\"Daniel\",\"Ruben\"]\n",
        "aula3 = aula1"
      ],
      "metadata": {
        "id": "NkQ0PxGUF4XN"
      },
      "execution_count": 34,
      "outputs": []
    },
    {
      "cell_type": "code",
      "source": [
        "aula3 is aula1"
      ],
      "metadata": {
        "colab": {
          "base_uri": "https://localhost:8080/"
        },
        "id": "FQFB2HWKGQAm",
        "outputId": "e8083337-b6cc-477d-d48e-1445028c1afb"
      },
      "execution_count": 45,
      "outputs": [
        {
          "output_type": "execute_result",
          "data": {
            "text/plain": [
              "True"
            ]
          },
          "metadata": {},
          "execution_count": 45
        }
      ]
    },
    {
      "cell_type": "code",
      "source": [
        "aula3 is aula2"
      ],
      "metadata": {
        "colab": {
          "base_uri": "https://localhost:8080/"
        },
        "id": "A6iCtLaLGTxu",
        "outputId": "c84542a4-6086-47a6-d0b3-5cc1af70f5d8"
      },
      "execution_count": 44,
      "outputs": [
        {
          "output_type": "execute_result",
          "data": {
            "text/plain": [
              "False"
            ]
          },
          "metadata": {},
          "execution_count": 44
        }
      ]
    },
    {
      "cell_type": "code",
      "source": [
        "aula2 is aula1"
      ],
      "metadata": {
        "colab": {
          "base_uri": "https://localhost:8080/"
        },
        "id": "ly153OjIGbYF",
        "outputId": "d06444a1-fd14-4166-87e5-7b3ccb1c03d8"
      },
      "execution_count": 43,
      "outputs": [
        {
          "output_type": "execute_result",
          "data": {
            "text/plain": [
              "False"
            ]
          },
          "metadata": {},
          "execution_count": 43
        }
      ]
    },
    {
      "cell_type": "code",
      "source": [
        "aula1.append(\"Diego\")"
      ],
      "metadata": {
        "id": "KsxzYlv2Gd6N"
      },
      "execution_count": 41,
      "outputs": []
    },
    {
      "cell_type": "code",
      "source": [
        "aula3"
      ],
      "metadata": {
        "colab": {
          "base_uri": "https://localhost:8080/"
        },
        "id": "hQup2GbZGi41",
        "outputId": "39f7cebb-145d-4936-cf63-ab5866cb2b40"
      },
      "execution_count": 47,
      "outputs": [
        {
          "output_type": "execute_result",
          "data": {
            "text/plain": [
              "['Juan', 'Daniel', 'Ruben', 'Diego']"
            ]
          },
          "metadata": {},
          "execution_count": 47
        }
      ]
    },
    {
      "cell_type": "code",
      "source": [
        "aula2"
      ],
      "metadata": {
        "colab": {
          "base_uri": "https://localhost:8080/"
        },
        "id": "hnGFnyA6GvFm",
        "outputId": "01841a9a-7e32-4e6e-bd60-8cfcffbe9c50"
      },
      "execution_count": 48,
      "outputs": [
        {
          "output_type": "execute_result",
          "data": {
            "text/plain": [
              "['Juan', 'Daniel', 'Ruben']"
            ]
          },
          "metadata": {},
          "execution_count": 48
        }
      ]
    }
  ]
}